{
 "cells": [
  {
   "cell_type": "code",
   "execution_count": 1,
   "metadata": {},
   "outputs": [
    {
     "name": "stderr",
     "output_type": "stream",
     "text": [
      "/home/alliedtoasters/anaconda3/envs/ann/lib/python3.5/site-packages/h5py/__init__.py:36: FutureWarning: Conversion of the second argument of issubdtype from `float` to `np.floating` is deprecated. In future, it will be treated as `np.float64 == np.dtype(float).type`.\n",
      "  from ._conv import register_converters as _register_converters\n",
      "Using TensorFlow backend.\n"
     ]
    }
   ],
   "source": [
    "import numpy as np\n",
    "import pandas as pd\n",
    "from PIL import Image\n",
    "from time import time\n",
    "from keras.utils import to_categorical\n",
    "from keras.preprocessing.image import ImageDataGenerator\n",
    "from keras import applications\n",
    "\n",
    "# dimensions of our images.\n",
    "img_width, img_height = 224, 224\n",
    "\n",
    "top_model_weights_path = './mobnet_weights/bottleneck_fc_model.h5'\n",
    "train_data_dir = './mobnet_imgs/train/'\n",
    "validation_data_dir = './mobnet_imgs/test/'\n",
    "nb_train_samples = 8177\n",
    "nb_validation_samples = 2045\n",
    "epochs = 50\n",
    "batch_size = 1\n"
   ]
  },
  {
   "cell_type": "code",
   "execution_count": 4,
   "metadata": {},
   "outputs": [],
   "source": [
    "def save_bottleneck_features():\n",
    "    datagen = ImageDataGenerator(rescale=1. / 255)\n",
    "\n",
    "    # build the VGG16 network\n",
    "    model = applications.VGG16(include_top=False, weights='imagenet')\n",
    "\n",
    "    generator = datagen.flow_from_directory(\n",
    "        train_data_dir,\n",
    "        target_size=(img_width, img_height),\n",
    "        batch_size=batch_size,\n",
    "        class_mode='categorical',\n",
    "        shuffle=False)\n",
    "    print('saving train labels...')\n",
    "    np.save('train_labels.npy', to_categorical(generator.classes))\n",
    "    print('done!')\n",
    "    print('generating train output...')\n",
    "    bottleneck_features_train = model.predict_generator(\n",
    "        generator, \n",
    "        nb_train_samples // batch_size,\n",
    "        verbose=1\n",
    "    )\n",
    "    print('done!')\n",
    "    print('saving train output...')\n",
    "    np.save('bottleneck_features_train.npy',\n",
    "            bottleneck_features_train)\n",
    "    print('done!')\n",
    "\n",
    "    generator = datagen.flow_from_directory(\n",
    "        validation_data_dir,\n",
    "        target_size=(img_width, img_height),\n",
    "        batch_size=batch_size,\n",
    "        class_mode='categorical',\n",
    "        verbose=1,\n",
    "        shuffle=False)\n",
    "    print('saving train labels...')\n",
    "    np.save('test_labels.npy', to_categorical(generator.classes))\n",
    "    print('done!')\n",
    "    print('generating test output...')\n",
    "    bottleneck_features_validation = model.predict_generator(\n",
    "        generator, \n",
    "        nb_validation_samples // batch_size,\n",
    "        verbose=1\n",
    "    )\n",
    "    print('done!')\n",
    "    print('saving test output...')\n",
    "    np.save('bottleneck_features_validation.npy',\n",
    "            bottleneck_features_validation)\n",
    "    print('done!')"
   ]
  },
  {
   "cell_type": "code",
   "execution_count": null,
   "metadata": {},
   "outputs": [],
   "source": [
    "save_bottleneck_features()"
   ]
  }
 ],
 "metadata": {
  "kernelspec": {
   "display_name": "Environment (conda_ann)",
   "language": "python",
   "name": "conda_ann"
  },
  "language_info": {
   "codemirror_mode": {
    "name": "ipython",
    "version": 3
   },
   "file_extension": ".py",
   "mimetype": "text/x-python",
   "name": "python",
   "nbconvert_exporter": "python",
   "pygments_lexer": "ipython3",
   "version": "3.5.4"
  }
 },
 "nbformat": 4,
 "nbformat_minor": 2
}

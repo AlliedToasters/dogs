{
 "cells": [
  {
   "cell_type": "code",
   "execution_count": 1,
   "metadata": {},
   "outputs": [
    {
     "name": "stderr",
     "output_type": "stream",
     "text": [
      "/home/alliedtoasters/anaconda3/envs/ann/lib/python3.5/site-packages/h5py/__init__.py:36: FutureWarning: Conversion of the second argument of issubdtype from `float` to `np.floating` is deprecated. In future, it will be treated as `np.float64 == np.dtype(float).type`.\n",
      "  from ._conv import register_converters as _register_converters\n",
      "Using TensorFlow backend.\n"
     ]
    }
   ],
   "source": [
    "import numpy as np\n",
    "from keras.models import Model\n",
    "from keras.layers import Dropout, Flatten, Dense, Input\n",
    "from keras.callbacks import ModelCheckpoint"
   ]
  },
  {
   "cell_type": "markdown",
   "metadata": {},
   "source": [
    "## Dog Breed Classifier\n",
    "This project is a response to the <a href = 'https://www.kaggle.com/c/dog-breed-identification'> Kaggle Dog Breed Identification Challenge</a>. The dataset includes photographs of 120 dog breeds and a labeled training set of 10,222 photos.\n",
    "\n",
    "## Building a Convnet with CPU\n",
    "Image classification is notoriously computation heavy and it can take a long time to train up a functioning model without the aid of high-performance GPU. I wanted to see what was possible with, and what the limitations are of tackling a challenge like this with a CPU-only machine. These are the steps I took to create a classifier with non-trivial performance:\n",
    "\n",
    " - Use a pre-trained convnet: VGG16 trained with ImageNet (includes many dog breeds)\n",
    " - Strip \"top,\" flattened layers from model to access raw image features\n",
    " - Build new classifier on top of pre-trained VGG16 convolutional layers\n",
    " - Final model consists pre-trained VGG16 layers and my custom-trained top layer\n",
    " \n",
    "## Holdout Group and Data Preparation\n",
    "To prepare the images for processing, I use Scikit-Learn stratified split. To play nice with the keras ImageDataGenerator, I organize the photos (after resizing to 224x224 pixels) into folders by breed class, in one directory for training (80% of photos) and another for validation (20% of photos.) That script can be found <a href='https://github.com/AlliedToasters/dogs/blob/master/make_holdout.ipynb'>here</a>.\n",
    "\n",
    "## Extracting \"Bottleneck\" Features\n",
    "Running the VGG16 convolutional layers on my CPU machine is a very lengthy process (about 4 hours to get through all 10,222 photos.) To avoid running each photo through the convnet more than once, I save the output of each of the images into a numpy array file (.npy). I use the keras ImageDataGenerator to aid in that process by \"feeding\" the images to the model. This process was taken from <a href='https://blog.keras.io/building-powerful-image-classification-models-using-very-little-data.html'>this helpful tutorial</a> on the Keras blog. The script I use to extract these features can be found <a href='https://github.com/AlliedToasters/dogs/blob/master/bottleneck_features.ipynb'>here</a>.\n",
    "\n",
    "## Training Model \"Top\"\n",
    "To build a model sensitive to dog breeds, I used the extracted VGG16 features and train up the model. That process is recorded below.<br><br>\n",
    "The \"top\" model itself is simply a 256 node-wide layer densely connected to the flattened "
   ]
  },
  {
   "cell_type": "code",
   "execution_count": 2,
   "metadata": {},
   "outputs": [],
   "source": [
    "train_features = np.load('features_train.npy')\n",
    "test_features = np.load('bottleneck_features_validation.npy')\n",
    "\n",
    "train_labels = np.load('lbl_train.npy')\n",
    "test_labels = np.load('lbl_test.npy')"
   ]
  },
  {
   "cell_type": "code",
   "execution_count": 3,
   "metadata": {},
   "outputs": [],
   "source": [
    "inputs = Input(shape=train_features.shape[1:])\n",
    "x = Flatten()(inputs)\n",
    "x = Dense(256, activation='relu')(x)\n",
    "x = Dropout(0.1)(x)\n",
    "outputs = Dense(120, activation='softmax')(x)\n",
    "model = Model(inputs=inputs, outputs=outputs)\n",
    "\n",
    "model.compile(optimizer='rmsprop',\n",
    "              loss='categorical_crossentropy',\n",
    "              metrics=['accuracy'])\n"
   ]
  },
  {
   "cell_type": "code",
   "execution_count": 4,
   "metadata": {},
   "outputs": [],
   "source": [
    "checkpointer = ModelCheckpoint(filepath='VGG16_topv4.hdf5', verbose=1, save_best_only=True)"
   ]
  },
  {
   "cell_type": "code",
   "execution_count": 5,
   "metadata": {},
   "outputs": [
    {
     "name": "stdout",
     "output_type": "stream",
     "text": [
      "Train on 8177 samples, validate on 2045 samples\n",
      "Epoch 1/15\n",
      "8164/8177 [============================>.] - ETA: 0s - loss: 5.5317 - acc: 0.0102\n",
      "Epoch 00001: val_loss improved from inf to 4.78289, saving model to VGG16_topv4.hdf5\n",
      "8177/8177 [==============================] - 61s 7ms/step - loss: 5.5305 - acc: 0.0102 - val_loss: 4.7829 - val_acc: 0.0122\n",
      "Epoch 2/15\n",
      "8164/8177 [============================>.] - ETA: 0s - loss: 4.8052 - acc: 0.0115\n",
      "Epoch 00002: val_loss did not improve\n",
      "8177/8177 [==============================] - 61s 8ms/step - loss: 4.8050 - acc: 0.0115 - val_loss: 4.8533 - val_acc: 0.0083\n",
      "Epoch 3/15\n",
      "8164/8177 [============================>.] - ETA: 0s - loss: 4.7940 - acc: 0.0138\n",
      "Epoch 00003: val_loss did not improve\n",
      "8177/8177 [==============================] - 65s 8ms/step - loss: 4.7939 - acc: 0.0138 - val_loss: 4.8070 - val_acc: 0.0103\n",
      "Epoch 4/15\n",
      "8164/8177 [============================>.] - ETA: 0s - loss: 4.7882 - acc: 0.0147\n",
      "Epoch 00004: val_loss improved from 4.78289 to 4.74977, saving model to VGG16_topv4.hdf5\n",
      "8177/8177 [==============================] - 69s 8ms/step - loss: 4.7880 - acc: 0.0148 - val_loss: 4.7498 - val_acc: 0.0161\n",
      "Epoch 5/15\n",
      "8164/8177 [============================>.] - ETA: 0s - loss: 4.6986 - acc: 0.0224\n",
      "Epoch 00005: val_loss improved from 4.74977 to 4.60585, saving model to VGG16_topv4.hdf5\n",
      "8177/8177 [==============================] - 66s 8ms/step - loss: 4.6983 - acc: 0.0224 - val_loss: 4.6059 - val_acc: 0.0244\n",
      "Epoch 6/15\n",
      "8164/8177 [============================>.] - ETA: 0s - loss: 4.5098 - acc: 0.0391\n",
      "Epoch 00006: val_loss improved from 4.60585 to 4.50813, saving model to VGG16_topv4.hdf5\n",
      "8177/8177 [==============================] - 67s 8ms/step - loss: 4.5095 - acc: 0.0390 - val_loss: 4.5081 - val_acc: 0.0318\n",
      "Epoch 7/15\n",
      "8164/8177 [============================>.] - ETA: 0s - loss: 4.3797 - acc: 0.0429\n",
      "Epoch 00007: val_loss improved from 4.50813 to 4.50130, saving model to VGG16_topv4.hdf5\n",
      "8177/8177 [==============================] - 68s 8ms/step - loss: 4.3798 - acc: 0.0429 - val_loss: 4.5013 - val_acc: 0.0401\n",
      "Epoch 8/15\n",
      "8164/8177 [============================>.] - ETA: 0s - loss: 4.2268 - acc: 0.0638\n",
      "Epoch 00008: val_loss improved from 4.50130 to 4.37764, saving model to VGG16_topv4.hdf5\n",
      "8177/8177 [==============================] - 67s 8ms/step - loss: 4.2272 - acc: 0.0637 - val_loss: 4.3776 - val_acc: 0.0504\n",
      "Epoch 9/15\n",
      "8164/8177 [============================>.] - ETA: 0s - loss: 4.0116 - acc: 0.0921\n",
      "Epoch 00009: val_loss did not improve\n",
      "8177/8177 [==============================] - 68s 8ms/step - loss: 4.0111 - acc: 0.0921 - val_loss: 4.6201 - val_acc: 0.0694\n",
      "Epoch 10/15\n",
      "8164/8177 [============================>.] - ETA: 0s - loss: 3.7965 - acc: 0.1222\n",
      "Epoch 00010: val_loss improved from 4.37764 to 4.24300, saving model to VGG16_topv4.hdf5\n",
      "8177/8177 [==============================] - 66s 8ms/step - loss: 3.7965 - acc: 0.1220 - val_loss: 4.2430 - val_acc: 0.0895\n",
      "Epoch 11/15\n",
      "8164/8177 [============================>.] - ETA: 0s - loss: 3.5985 - acc: 0.1538\n",
      "Epoch 00011: val_loss improved from 4.24300 to 4.23999, saving model to VGG16_topv4.hdf5\n",
      "8177/8177 [==============================] - 69s 8ms/step - loss: 3.5982 - acc: 0.1538 - val_loss: 4.2400 - val_acc: 0.0841\n",
      "Epoch 12/15\n",
      "8164/8177 [============================>.] - ETA: 0s - loss: 3.4133 - acc: 0.1836\n",
      "Epoch 00012: val_loss did not improve\n",
      "8177/8177 [==============================] - 69s 8ms/step - loss: 3.4128 - acc: 0.1837 - val_loss: 4.4984 - val_acc: 0.1012\n",
      "Epoch 13/15\n",
      "8164/8177 [============================>.] - ETA: 0s - loss: 3.2228 - acc: 0.2242\n",
      "Epoch 00013: val_loss did not improve\n",
      "8177/8177 [==============================] - 68s 8ms/step - loss: 3.2207 - acc: 0.2244 - val_loss: 4.8766 - val_acc: 0.1066\n",
      "Epoch 14/15\n",
      "8164/8177 [============================>.] - ETA: 0s - loss: 3.0504 - acc: 0.2485\n",
      "Epoch 00014: val_loss did not improve\n",
      "8177/8177 [==============================] - 69s 8ms/step - loss: 3.0504 - acc: 0.2485 - val_loss: 4.8607 - val_acc: 0.1149\n",
      "Epoch 15/15\n",
      "8164/8177 [============================>.] - ETA: 0s - loss: 2.9089 - acc: 0.2800\n",
      "Epoch 00015: val_loss did not improve\n",
      "8177/8177 [==============================] - 69s 8ms/step - loss: 2.9089 - acc: 0.2799 - val_loss: 5.1151 - val_acc: 0.0968\n"
     ]
    },
    {
     "data": {
      "text/plain": [
       "<keras.callbacks.History at 0x7f8be5c53cf8>"
      ]
     },
     "execution_count": 5,
     "metadata": {},
     "output_type": "execute_result"
    }
   ],
   "source": [
    "model.fit(\n",
    "    train_features, train_labels,\n",
    "    epochs=15,\n",
    "    batch_size=13,\n",
    "    validation_data=(test_features, test_labels),\n",
    "    shuffle=True,\n",
    "    callbacks=[checkpointer],\n",
    "    verbose=1\n",
    ")"
   ]
  },
  {
   "cell_type": "code",
   "execution_count": null,
   "metadata": {},
   "outputs": [],
   "source": []
  },
  {
   "cell_type": "code",
   "execution_count": null,
   "metadata": {},
   "outputs": [],
   "source": []
  }
 ],
 "metadata": {
  "kernelspec": {
   "display_name": "Environment (conda_ann)",
   "language": "python",
   "name": "conda_ann"
  },
  "language_info": {
   "codemirror_mode": {
    "name": "ipython",
    "version": 3
   },
   "file_extension": ".py",
   "mimetype": "text/x-python",
   "name": "python",
   "nbconvert_exporter": "python",
   "pygments_lexer": "ipython3",
   "version": "3.5.4"
  }
 },
 "nbformat": 4,
 "nbformat_minor": 2
}

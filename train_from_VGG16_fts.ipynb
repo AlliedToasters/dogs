{
 "cells": [
  {
   "cell_type": "code",
   "execution_count": 1,
   "metadata": {},
   "outputs": [
    {
     "name": "stderr",
     "output_type": "stream",
     "text": [
      "/home/alliedtoasters/anaconda3/envs/ann/lib/python3.5/site-packages/h5py/__init__.py:36: FutureWarning: Conversion of the second argument of issubdtype from `float` to `np.floating` is deprecated. In future, it will be treated as `np.float64 == np.dtype(float).type`.\n",
      "  from ._conv import register_converters as _register_converters\n",
      "Using TensorFlow backend.\n"
     ]
    }
   ],
   "source": [
    "import numpy as np\n",
    "from keras.models import Model\n",
    "from keras.layers import Dropout, Flatten, Dense, Input\n",
    "from keras.callbacks import ModelCheckpoint"
   ]
  },
  {
   "cell_type": "markdown",
   "metadata": {},
   "source": [
    "## Dog Breed Classifier\n",
    "This project is a response to the <a href = 'https://www.kaggle.com/c/dog-breed-identification'> Kaggle Dog Breed Identification Challenge</a>. The dataset includes photographs of 120 dog breeds and a labeled training set of 10,222 photos.\n",
    "\n",
    "## Building a Convnet with CPU\n",
    "Image classification is notoriously computation heavy and it can take a long time to train up a functioning model without the aid of high-performance GPU. I wanted to see what was possible with, and what the limitations are of tackling a challenge like this with a CPU-only machine. These are the steps I took to create a classifier with non-trivial performance:\n",
    "\n",
    " - Use a pre-trained convnet: VGG16 trained with ImageNet (includes many dog breeds)\n",
    " - Strip \"top,\" flattened layers from model to access raw image features\n",
    " - Build new classifier on top of pre-trained VGG16 convolutional layers\n",
    " - Final model consists pre-trained VGG16 layers and my custom-trained top layer\n",
    " \n",
    "## Holdout Group and Data Preparation\n",
    "To prepare the images for processing, I use Scikit-Learn stratified split. To play nice with the keras ImageDataGenerator, I organize the photos (after resizing to 224x224 pixels) into folders by breed class, in one directory for training (80% of photos) and another for validation (20% of photos.) That script can be found <a href='https://github.com/AlliedToasters/dogs/blob/master/make_holdout.ipynb'>here</a>.\n",
    "\n",
    "## Extracting \"Bottleneck\" Features\n",
    "Running the VGG16 convolutional layers on my CPU machine is a very lengthy process (about 4 hours to get through all 10,222 photos.) To avoid running each photo through the convnet more than once, I save the output of each of the images into a numpy array file (.npy). I use the keras ImageDataGenerator to aid in that process by \"feeding\" the images to the model. This process was taken from <a href='https://blog.keras.io/building-powerful-image-classification-models-using-very-little-data.html'>this helpful tutorial</a> on the Keras blog. The script I use to extract these features can be found <a href='https://github.com/AlliedToasters/dogs/blob/master/bottleneck_features.ipynb'>here</a>.\n",
    "\n",
    "## Training Model \"Top\"\n",
    "To build a model sensitive to dog breeds, I used the extracted VGG16 features and train up the model. That process is recorded below.<br><br>\n",
    "The \"top\" model itself is simply a 256 node-wide layer densely connected to the flattened 25,088 features extracted with the VGG16 model."
   ]
  },
  {
   "cell_type": "code",
   "execution_count": 2,
   "metadata": {},
   "outputs": [],
   "source": [
    "train_features = np.load('features_train.npy')\n",
    "test_features = np.load('bottleneck_features_validation.npy')\n",
    "\n",
    "train_labels = np.load('lbl_train.npy')\n",
    "test_labels = np.load('lbl_test.npy')"
   ]
  },
  {
   "cell_type": "code",
   "execution_count": 3,
   "metadata": {},
   "outputs": [],
   "source": [
    "inputs = Input(shape=train_features.shape[1:])\n",
    "x = Flatten()(inputs)\n",
    "x = Dense(256, activation='relu')(x)\n",
    "x = Dropout(0.1)(x)\n",
    "outputs = Dense(120, activation='softmax')(x)\n",
    "model = Model(inputs=inputs, outputs=outputs)\n",
    "\n",
    "model.compile(optimizer='rmsprop',\n",
    "              loss='categorical_crossentropy',\n",
    "              metrics=['accuracy'])\n"
   ]
  },
  {
   "cell_type": "markdown",
   "metadata": {},
   "source": [
    "## \"Top\" Model Infrastructure\n",
    "This model flattens the saved output of the VGG16 convolutional layers (dimensions 7, 7, 512) into 25,088 features in one dimension (a 1-D vector of 25,088 values). The \"top\" model treats this flattened vector as its \"input,\" fully connected to a 256-dense layer with relu activation. I apply a dropout between this dense layer and fully-connected output layer, with 120 values for each of the 120 dog breed classes in the dataset and a softmax activation."
   ]
  },
  {
   "cell_type": "code",
   "execution_count": 4,
   "metadata": {},
   "outputs": [
    {
     "name": "stdout",
     "output_type": "stream",
     "text": [
      "_________________________________________________________________\n",
      "Layer (type)                 Output Shape              Param #   \n",
      "=================================================================\n",
      "input_1 (InputLayer)         (None, 7, 7, 512)         0         \n",
      "_________________________________________________________________\n",
      "flatten_1 (Flatten)          (None, 25088)             0         \n",
      "_________________________________________________________________\n",
      "dense_1 (Dense)              (None, 256)               6422784   \n",
      "_________________________________________________________________\n",
      "dropout_1 (Dropout)          (None, 256)               0         \n",
      "_________________________________________________________________\n",
      "dense_2 (Dense)              (None, 120)               30840     \n",
      "=================================================================\n",
      "Total params: 6,453,624\n",
      "Trainable params: 6,453,624\n",
      "Non-trainable params: 0\n",
      "_________________________________________________________________\n"
     ]
    }
   ],
   "source": [
    "model.summary()"
   ]
  },
  {
   "cell_type": "code",
   "execution_count": 5,
   "metadata": {},
   "outputs": [],
   "source": [
    "checkpointer = ModelCheckpoint(filepath='VGG16_topv4.hdf5', verbose=1, save_best_only=True)"
   ]
  },
  {
   "cell_type": "code",
   "execution_count": 6,
   "metadata": {},
   "outputs": [
    {
     "name": "stdout",
     "output_type": "stream",
     "text": [
      "Train on 8177 samples, validate on 2045 samples\n",
      "Epoch 1/15\n",
      "8160/8177 [============================>.] - ETA: 0s - loss: 5.8304 - acc: 0.0104\n",
      "Epoch 00001: val_loss improved from inf to 4.78395, saving model to VGG16_topv4.hdf5\n",
      "8177/8177 [==============================] - 23s 3ms/step - loss: 5.8282 - acc: 0.0104 - val_loss: 4.7839 - val_acc: 0.0142\n",
      "Epoch 2/15\n",
      "8160/8177 [============================>.] - ETA: 0s - loss: 4.8058 - acc: 0.0131- ETA: 1s - loss: 4.8101 - acc:\n",
      "Epoch 00002: val_loss improved from 4.78395 to 4.76258, saving model to VGG16_topv4.hdf5\n",
      "8177/8177 [==============================] - 21s 3ms/step - loss: 4.8056 - acc: 0.0131 - val_loss: 4.7626 - val_acc: 0.0137\n",
      "Epoch 3/15\n",
      "8160/8177 [============================>.] - ETA: 0s - loss: 4.6961 - acc: 0.0185\n",
      "Epoch 00003: val_loss improved from 4.76258 to 4.65070, saving model to VGG16_topv4.hdf5\n",
      "8177/8177 [==============================] - 21s 3ms/step - loss: 4.6958 - acc: 0.0185 - val_loss: 4.6507 - val_acc: 0.0156\n",
      "Epoch 4/15\n",
      "8160/8177 [============================>.] - ETA: 0s - loss: 4.5954 - acc: 0.0248\n",
      "Epoch 00004: val_loss improved from 4.65070 to 4.52616, saving model to VGG16_topv4.hdf5\n",
      "8177/8177 [==============================] - 21s 3ms/step - loss: 4.5953 - acc: 0.0248 - val_loss: 4.5262 - val_acc: 0.0220\n",
      "Epoch 5/15\n",
      "8160/8177 [============================>.] - ETA: 0s - loss: 4.4172 - acc: 0.0404\n",
      "Epoch 00005: val_loss improved from 4.52616 to 4.38653, saving model to VGG16_topv4.hdf5\n",
      "8177/8177 [==============================] - 21s 3ms/step - loss: 4.4170 - acc: 0.0404 - val_loss: 4.3865 - val_acc: 0.0411\n",
      "Epoch 6/15\n",
      "8160/8177 [============================>.] - ETA: 0s - loss: 4.1844 - acc: 0.0636\n",
      "Epoch 00006: val_loss did not improve\n",
      "8177/8177 [==============================] - 21s 3ms/step - loss: 4.1835 - acc: 0.0636 - val_loss: 4.7167 - val_acc: 0.0401\n",
      "Epoch 7/15\n",
      "8160/8177 [============================>.] - ETA: 0s - loss: 3.9213 - acc: 0.0942\n",
      "Epoch 00007: val_loss improved from 4.38653 to 4.23376, saving model to VGG16_topv4.hdf5\n",
      "8177/8177 [==============================] - 21s 3ms/step - loss: 3.9205 - acc: 0.0945 - val_loss: 4.2338 - val_acc: 0.0611\n",
      "Epoch 8/15\n",
      "8160/8177 [============================>.] - ETA: 0s - loss: 3.6796 - acc: 0.1255\n",
      "Epoch 00008: val_loss did not improve\n",
      "8177/8177 [==============================] - 21s 3ms/step - loss: 3.6792 - acc: 0.1256 - val_loss: 4.2636 - val_acc: 0.0655\n",
      "Epoch 9/15\n",
      "8160/8177 [============================>.] - ETA: 0s - loss: 3.4449 - acc: 0.1610\n",
      "Epoch 00009: val_loss improved from 4.23376 to 4.05502, saving model to VGG16_topv4.hdf5\n",
      "8177/8177 [==============================] - 22s 3ms/step - loss: 3.4442 - acc: 0.1617 - val_loss: 4.0550 - val_acc: 0.0890\n",
      "Epoch 10/15\n",
      "8160/8177 [============================>.] - ETA: 0s - loss: 3.1791 - acc: 0.2094\n",
      "Epoch 00010: val_loss did not improve\n",
      "8177/8177 [==============================] - 21s 3ms/step - loss: 3.1791 - acc: 0.2096 - val_loss: 4.4101 - val_acc: 0.0763\n",
      "Epoch 11/15\n",
      "8160/8177 [============================>.] - ETA: 0s - loss: 2.9160 - acc: 0.2616\n",
      "Epoch 00011: val_loss did not improve\n",
      "8177/8177 [==============================] - 21s 3ms/step - loss: 2.9166 - acc: 0.2617 - val_loss: 4.2906 - val_acc: 0.0895\n",
      "Epoch 12/15\n",
      "8160/8177 [============================>.] - ETA: 0s - loss: 2.6313 - acc: 0.3252\n",
      "Epoch 00012: val_loss improved from 4.05502 to 4.01774, saving model to VGG16_topv4.hdf5\n",
      "8177/8177 [==============================] - 22s 3ms/step - loss: 2.6308 - acc: 0.3251 - val_loss: 4.0177 - val_acc: 0.1169\n",
      "Epoch 13/15\n",
      "8160/8177 [============================>.] - ETA: 0s - loss: 2.3764 - acc: 0.3750\n",
      "Epoch 00013: val_loss improved from 4.01774 to 3.93374, saving model to VGG16_topv4.hdf5\n",
      "8177/8177 [==============================] - 22s 3ms/step - loss: 2.3750 - acc: 0.3751 - val_loss: 3.9337 - val_acc: 0.1511\n",
      "Epoch 14/15\n",
      "8160/8177 [============================>.] - ETA: 0s - loss: 2.1029 - acc: 0.4472\n",
      "Epoch 00014: val_loss did not improve\n",
      "8177/8177 [==============================] - 22s 3ms/step - loss: 2.1026 - acc: 0.4472 - val_loss: 4.1575 - val_acc: 0.1345\n",
      "Epoch 15/15\n",
      "8160/8177 [============================>.] - ETA: 0s - loss: 1.8556 - acc: 0.5015\n",
      "Epoch 00015: val_loss did not improve\n",
      "8177/8177 [==============================] - 21s 3ms/step - loss: 1.8557 - acc: 0.5018 - val_loss: 4.2261 - val_acc: 0.1535\n"
     ]
    },
    {
     "data": {
      "text/plain": [
       "<keras.callbacks.History at 0x7f79a8a7cc18>"
      ]
     },
     "execution_count": 6,
     "metadata": {},
     "output_type": "execute_result"
    }
   ],
   "source": [
    "model.fit(\n",
    "    train_features, train_labels,\n",
    "    epochs=15,\n",
    "    batch_size=80,\n",
    "    validation_data=(test_features, test_labels),\n",
    "    shuffle=True,\n",
    "    callbacks=[checkpointer],\n",
    "    verbose=1\n",
    ")"
   ]
  },
  {
   "cell_type": "markdown",
   "metadata": {},
   "source": [
    "## Training Results\n",
    "The model is capable and acheives an accuracy of over 15% on the validation set. This is nontrivial considering the classes are relatively balanced and many (120); the baseline accuracy for simply guessing the majority class would be 1.22%.<br><br>\n",
    "In another notebook, I use an RBM and cropped images of dogs' heads to create a binary classifier between two breeds. This classifier gets 96% accuracy, but it's not nearly as flexible; I had to hand-crop those images and reduce the problem to a binary classifier to achieve that accuracy. This model performs far better, considering it requires zero feature engineering; it only requires a lot more computation power (or time, if the former is limited.) \n",
    "\n",
    "## Where do we go from here?\n",
    "This model is certainly not as good as it can be. Some avenues for improvement are:\n",
    " 1. \"Fine-Tuning\" the final convolutional block. This process is detailed in the blog post I mentioned before, in the final section.\n",
    " 2. Adding additional depth and breadth to the \"top\" model. The VGG16 model trained on ImageNet makes use of two fully-connected dense layers of 4096 nodes to achieve its state-of-the-art performance. Training this up, of course, would require lots of time or GPUs."
   ]
  },
  {
   "cell_type": "code",
   "execution_count": 18,
   "metadata": {},
   "outputs": [
    {
     "name": "stdout",
     "output_type": "stream",
     "text": [
      "trivial performance accuracy (setting all predictions to majority class in validation set): % 1.22\n"
     ]
    }
   ],
   "source": [
    "print('trivial performance accuracy (setting all predictions to majority class in validation set): %', \n",
    "      str(100*test_labels.sum(axis=0).max()/test_labels.sum().sum())[:4]\n",
    ")"
   ]
  },
  {
   "cell_type": "code",
   "execution_count": null,
   "metadata": {},
   "outputs": [],
   "source": []
  }
 ],
 "metadata": {
  "kernelspec": {
   "display_name": "Environment (conda_ann)",
   "language": "python",
   "name": "conda_ann"
  },
  "language_info": {
   "codemirror_mode": {
    "name": "ipython",
    "version": 3
   },
   "file_extension": ".py",
   "mimetype": "text/x-python",
   "name": "python",
   "nbconvert_exporter": "python",
   "pygments_lexer": "ipython3",
   "version": "3.5.4"
  }
 },
 "nbformat": 4,
 "nbformat_minor": 2
}
